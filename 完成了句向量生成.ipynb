{
 "cells": [
  {
   "cell_type": "code",
   "execution_count": 2,
   "id": "electric-scientist",
   "metadata": {},
   "outputs": [],
   "source": [
    "import pandas as pd\n",
    "import numpy as np\n",
    "import torch.utils.data as Data\n",
    "import torch.nn as nn\n",
    "import torch.nn.functional as F\n",
    "import torch\n",
    "import jieba\n",
    "import gensim\n",
    "from gensim.models.word2vec import Word2Vec\n",
    "from gensim.models import KeyedVectors"
   ]
  },
  {
   "cell_type": "code",
   "execution_count": 3,
   "id": "patent-philosophy",
   "metadata": {},
   "outputs": [
    {
     "name": "stdout",
     "output_type": "stream",
     "text": [
      "loading all-in-one\n",
      "load positive\n",
      "load negative\n"
     ]
    }
   ],
   "source": [
    "print('loading all-in-one')\n",
    "all_in_one=pd.read_csv('/Users/jasondennis/Desktop/graduate-design/data/all-in-one.csv')\n",
    "print('load positive')\n",
    "pos=pd.read_csv('/Users/jasondennis/Desktop/graduate-design/data/positive.csv')\n",
    "print('load negative')\n",
    "neg=pd.read_csv('/Users/jasondennis/Desktop/graduate-design/data/negative.csv')"
   ]
  },
  {
   "cell_type": "code",
   "execution_count": 4,
   "id": "suited-saturn",
   "metadata": {},
   "outputs": [
    {
     "name": "stdout",
     "output_type": "stream",
     "text": [
      "739281\n"
     ]
    }
   ],
   "source": [
    "print(len(all_in_one['Comment']))"
   ]
  },
  {
   "cell_type": "code",
   "execution_count": 25,
   "id": "collect-fitness",
   "metadata": {},
   "outputs": [
    {
     "ename": "NameError",
     "evalue": "name 'all_word' is not defined",
     "output_type": "error",
     "traceback": [
      "\u001b[0;31m---------------------------------------------------------------------------\u001b[0m",
      "\u001b[0;31mNameError\u001b[0m                                 Traceback (most recent call last)",
      "\u001b[0;32m<ipython-input-25-1bf409b96801>\u001b[0m in \u001b[0;36m<module>\u001b[0;34m\u001b[0m\n\u001b[1;32m      1\u001b[0m \u001b[0;32mfor\u001b[0m \u001b[0mx\u001b[0m \u001b[0;32min\u001b[0m \u001b[0mall_in_one\u001b[0m\u001b[0;34m[\u001b[0m\u001b[0;34m'Comment'\u001b[0m\u001b[0;34m]\u001b[0m\u001b[0;34m:\u001b[0m\u001b[0;34m\u001b[0m\u001b[0;34m\u001b[0m\u001b[0m\n\u001b[0;32m----> 2\u001b[0;31m     \u001b[0mall_word\u001b[0m\u001b[0;34m.\u001b[0m\u001b[0mappend\u001b[0m\u001b[0;34m(\u001b[0m\u001b[0;34m)\u001b[0m\u001b[0;34m\u001b[0m\u001b[0;34m\u001b[0m\u001b[0m\n\u001b[0m\u001b[1;32m      3\u001b[0m \u001b[0mprint\u001b[0m\u001b[0;34m(\u001b[0m\u001b[0mlen\u001b[0m\u001b[0;34m(\u001b[0m\u001b[0mall_word\u001b[0m\u001b[0;34m)\u001b[0m\u001b[0;34m)\u001b[0m\u001b[0;34m\u001b[0m\u001b[0;34m\u001b[0m\u001b[0m\n",
      "\u001b[0;31mNameError\u001b[0m: name 'all_word' is not defined"
     ]
    }
   ],
   "source": [
    "for x in all_in_one['Comment']:\n",
    "    all_word.append()\n",
    "print(len(all_word))"
   ]
  },
  {
   "cell_type": "code",
   "execution_count": 6,
   "id": "static-eugene",
   "metadata": {},
   "outputs": [
    {
     "name": "stdout",
     "output_type": "stream",
     "text": [
      "739281\n"
     ]
    }
   ],
   "source": [
    "all_in_one['words']=jieba.cut(all_in_one['Comment'])\n",
    "print(len(all_in_one['words']))"
   ]
  },
  {
   "cell_type": "code",
   "execution_count": 7,
   "id": "stable-beach",
   "metadata": {},
   "outputs": [
    {
     "name": "stdout",
     "output_type": "stream",
     "text": [
      "0          机甲之战超超好看，比变形金刚强；人，神，变异人，人工智能互殴，强强强强；每一小段末句都是槽...\n",
      "1          说实话其实剧情就那样吧，非漫威粉看着可能有的地方会get不到G点吧。（其实漫威卖的不是剧情...\n",
      "2                                       没有了洛基这个小基仔真是觉得即墨如雪啊\n",
      "3          看毕，我激动地对友人说，等等奥创要来毁灭台北怎么办厚，她拍了拍我肩膀，没事，反正你买了两份...\n",
      "4                                       哪个保证一刀不剪的，不是剪了好几刀吗！\n",
      "                                ...                        \n",
      "739276                     电影很一般，远不如冰河世纪这些，正常打7分，打1分是因为水军太多\n",
      "739277     作为喜剧笑点太生硬而且低龄化，情节走向俗套，感觉不如迪士尼的任何一部动画电影，在我心中和喜...\n",
      "739278                    为什么每次这种莫名其妙的动画片分数这么高，豆瓣这群装逼犯又发作了吗\n",
      "739279                                                   无感\n",
      "739280                                            我来拉分，睡着了都\n",
      "Name: Comment, Length: 739281, dtype: object\n"
     ]
    }
   ],
   "source": [
    "print(all_in_one['Comment'])"
   ]
  },
  {
   "cell_type": "code",
   "execution_count": 8,
   "id": "whole-cinema",
   "metadata": {},
   "outputs": [
    {
     "name": "stdout",
     "output_type": "stream",
     "text": [
      "done\n"
     ]
    }
   ],
   "source": [
    "w2v_model=KeyedVectors.load_word2vec_format(\"/Users/jasondennis/Desktop/graduate-design/CNN/test1/sgns.zhihu.bigram.bz2\",binary=False)\n",
    "print('done')"
   ]
  },
  {
   "cell_type": "code",
   "execution_count": 9,
   "id": "dramatic-aberdeen",
   "metadata": {},
   "outputs": [],
   "source": [
    "import math\n",
    "import numpy as np\n",
    "\n",
    "def build_sentence_vec(sentence,size,w2v_model):\n",
    "    sen_vec=np.zeros(size).reshape((1,size))\n",
    "    count=0\n",
    "    for word in sentence:\n",
    "        try:\n",
    "            sen_vec+=w2v_model[word].reshape((1,size))\n",
    "            count+=1\n",
    "        except KeyError:\n",
    "            continue\n",
    "    if count!=0:\n",
    "        sen_vec/=count\n",
    "    return sen_vec"
   ]
  },
  {
   "cell_type": "code",
   "execution_count": 10,
   "id": "juvenile-branch",
   "metadata": {},
   "outputs": [],
   "source": [
    "sentence00=build_sentence_vec(all_in_one['Comment'][1],300,w2v_model)"
   ]
  },
  {
   "cell_type": "code",
   "execution_count": 19,
   "id": "above-eight",
   "metadata": {},
   "outputs": [],
   "source": [
    "senten=torch.from_numpy(sentence00)"
   ]
  },
  {
   "cell_type": "code",
   "execution_count": 20,
   "id": "sized-powell",
   "metadata": {},
   "outputs": [
    {
     "data": {
      "text/plain": [
       "torch.Size([1, 300])"
      ]
     },
     "execution_count": 20,
     "metadata": {},
     "output_type": "execute_result"
    }
   ],
   "source": [
    "senten.size()"
   ]
  },
  {
   "cell_type": "code",
   "execution_count": 22,
   "id": "possible-oxygen",
   "metadata": {},
   "outputs": [
    {
     "name": "stdout",
     "output_type": "stream",
     "text": [
      "done\n"
     ]
    }
   ],
   "source": [
    "sentence=[ ]\n",
    "score=[ ]\n",
    "for x in range(len(all_in_one)):\n",
    "    sentence.append(build_sentence_vec(all_in_one['Comment'][x],300,w2v_model))\n",
    "    score.append(all_in_one['posneg'][x])\n",
    "print('done')"
   ]
  },
  {
   "cell_type": "code",
   "execution_count": 23,
   "id": "prerequisite-architect",
   "metadata": {},
   "outputs": [
    {
     "name": "stdout",
     "output_type": "stream",
     "text": [
      "739281\n",
      "739281\n"
     ]
    }
   ],
   "source": [
    "print(len(sentence))\n",
    "print(len(score))"
   ]
  },
  {
   "cell_type": "code",
   "execution_count": 24,
   "id": "extreme-liquid",
   "metadata": {},
   "outputs": [
    {
     "name": "stdout",
     "output_type": "stream",
     "text": [
      "[[ 2.24375003e-01 -1.60054562e-01 -1.37405521e-01  1.47981333e-01\n",
      "  -1.13347110e-01 -2.60550602e-01 -3.89324291e-01 -2.05868278e-02\n",
      "   7.06091839e-02 -1.76026057e-01 -4.09686215e-01  5.30437686e-01\n",
      "  -2.40649822e-02 -4.88206571e-02  2.76526739e-01 -5.14138074e-01\n",
      "  -7.57822652e-03  1.11145168e-02  3.55517794e-01 -6.33936914e-02\n",
      "   2.42442345e-01 -3.40255545e-02 -1.53262291e-03 -2.66336454e-01\n",
      "  -2.82102880e-01  4.51507847e-01 -1.90009504e-01 -4.22755358e-01\n",
      "   1.36493776e-01  1.21349953e-01 -1.83928558e-01  1.25168583e-02\n",
      "  -3.03296673e-02  1.27847774e-01  2.04928366e-01 -8.62195907e-02\n",
      "   2.42572290e-01  4.89817135e-01 -1.45270266e-01  1.39773374e-01\n",
      "  -1.97983042e-01  2.29090421e-02  4.18187942e-03  1.85908731e-01\n",
      "   1.64692798e-01  3.10245385e-01 -8.82842690e-02 -6.24402572e-02\n",
      "   1.32855150e-01 -5.42454956e-02 -9.19970649e-02 -3.00662474e-01\n",
      "  -1.27909165e-01  6.88362581e-02 -2.37541548e-01 -2.75999999e-01\n",
      "  -1.27357064e-01  2.59328140e-01  1.58760946e-01 -1.96876022e-02\n",
      "   1.69445184e-01  3.57868632e-01 -1.43822623e-01 -4.55652561e-02\n",
      "   1.63009215e-01 -5.25863230e-02  2.10853021e-01  3.06299463e-01\n",
      "   7.61780659e-02  1.33770681e-01  8.02942165e-02  7.89074082e-02\n",
      "  -1.98233085e-01 -2.57343311e-01 -3.68908637e-01 -9.21398828e-02\n",
      "  -5.86386667e-02 -3.55521715e-02 -1.74647886e-01 -1.27265891e-01\n",
      "   1.32910806e-01 -8.04186050e-02 -1.02998970e-01  2.83153851e-02\n",
      "  -9.92480211e-02 -9.09904864e-02  4.74823794e-02  2.21417513e-02\n",
      "  -5.00806467e-02 -3.65785324e-01  1.49840945e-01  7.96965697e-02\n",
      "  -6.37783144e-03 -4.90435397e-02  3.65074710e-01  1.09264785e-01\n",
      "   2.64389374e-02  1.28721720e-02  1.13834043e-01  1.47806130e-01\n",
      "  -2.90033493e-03  2.38627110e-01 -1.21760583e-01  6.89761479e-02\n",
      "  -2.56155008e-01 -4.36534270e-02 -1.25429620e-01 -2.25398366e-01\n",
      "  -1.85404483e-01  1.29079054e-01 -3.09521165e-02  1.67018490e-01\n",
      "  -1.01063043e-01  2.67179449e-01 -1.58853741e-01  9.22146983e-02\n",
      "  -1.34849936e-01 -2.23693161e-01 -4.31231278e-01 -1.52600190e-01\n",
      "  -4.22447072e-02 -1.80802698e-01  1.60544855e-02 -2.54813105e-01\n",
      "  -4.05041412e-02 -1.60004031e-01 -1.25315610e-01 -2.94587144e-01\n",
      "   2.02531249e-01  3.11272021e-02  2.55249375e-01 -5.92423543e-02\n",
      "  -2.01029422e-01 -1.00852947e-01  1.77824110e-01 -1.60601087e-01\n",
      "  -5.60422391e-02  1.28637732e-01  2.63868289e-01  1.10725353e-01\n",
      "  -5.12623313e-02  2.32274474e-01  1.28427118e-01 -3.27166778e-02\n",
      "  -1.55444829e-01 -1.59504516e-01  9.43546913e-02  3.51221700e-01\n",
      "   1.51998097e-01  2.83775680e-01  2.42015280e-01  1.54132743e-01\n",
      "  -1.75704095e-01 -9.29424075e-02  3.02037441e-01  1.76707572e-01\n",
      "  -2.79416548e-01 -3.53071193e-02  5.36253759e-02 -7.36979460e-02\n",
      "   1.47603170e-01  7.00019868e-02  1.35196219e-02  1.59744066e-02\n",
      "   2.87538280e-01 -1.94253992e-01 -1.99897757e-01 -2.50965388e-02\n",
      "   2.96009968e-01  1.78368127e-01 -3.89917119e-02  1.38031505e-01\n",
      "  -1.11131068e-02  5.92337856e-02 -1.55307947e-01 -4.29149591e-04\n",
      "   3.21730542e-02  2.63737600e-01 -9.97708569e-02 -4.21925697e-02\n",
      "  -1.88932936e-01  9.33454661e-03  1.21106245e-01  2.30324870e-01\n",
      "   1.42322917e-01  1.15490873e-01  1.14577969e-02  2.43217197e-01\n",
      "  -2.08057311e-01  3.14129755e-01 -7.15577507e-01  3.71059245e-02\n",
      "  -3.03227013e-01 -3.46979822e-01  1.26463387e-01 -2.00375743e-01\n",
      "   8.14076358e-02  1.76697367e-01 -7.25750785e-02  1.10383000e-01\n",
      "   9.03784773e-03 -1.49485261e-02  1.27921807e-01 -1.50508581e-01\n",
      "   2.20740903e-01 -1.08478859e-01 -6.37035792e-02 -1.52458261e-01\n",
      "   1.51272364e-01  4.91857390e-02  1.19866042e-01  3.03810638e-01\n",
      "  -2.78900733e-01  8.04399949e-03  1.51845240e-01  3.07088053e-02\n",
      "   3.69447707e-01 -1.07168978e-01  1.18104546e-01  6.28110980e-02\n",
      "   8.88920524e-02  3.78353117e-01  6.74122596e-03  1.41726055e-01\n",
      "   5.09276219e-02  2.94580642e-02 -8.83373044e-02  2.97308384e-01\n",
      "  -1.80587280e-01 -1.51592795e-01 -1.15707838e-01 -1.80982215e-01\n",
      "  -5.82593002e-02  8.81299009e-02  1.20034206e-01 -1.14700580e-01\n",
      "  -9.00647748e-02  5.15348657e-03 -1.64651470e-02 -8.56326247e-02\n",
      "   8.39966132e-02  1.16456641e-02  4.55615279e-01  1.06280258e-01\n",
      "   1.25777725e-02 -2.96216338e-01  9.16189158e-02 -1.32434961e-01\n",
      "   1.76939181e-01  1.55783041e-01  3.53055968e-01 -1.88952021e-01\n",
      "   3.44431724e-02  1.90135496e-01 -7.21932884e-02  1.63563926e-01\n",
      "   1.29747999e-01  5.08655459e-02 -1.35028402e-02  1.89042906e-01\n",
      "  -3.45443886e-02  1.88934536e-01 -2.59784160e-01 -1.26356067e-01\n",
      "  -1.10172871e-01 -1.96902956e-01 -2.36169558e-01 -2.35263646e-01\n",
      "   1.69450614e-01 -2.43815571e-01 -4.32503364e-03 -1.37373148e-01\n",
      "  -1.01570260e-01  1.85526195e-01  1.25624463e-01  2.54198837e-01\n",
      "   4.13093637e-02 -6.24859555e-02  4.77982796e-01  9.71932548e-02\n",
      "   9.74756422e-02 -1.45470746e-01  1.45649159e-01 -9.48555943e-02\n",
      "  -1.31051376e-01  4.44990161e-01 -7.26481719e-03 -6.96010643e-02\n",
      "   2.42109913e-01  1.93210281e-01 -1.47625215e-01  5.05560239e-02\n",
      "   2.15293659e-02  2.58277434e-02 -4.44589669e-02 -1.83462354e-01\n",
      "  -4.79984190e-02  2.11571213e-01  1.71742776e-01 -1.11852559e-01]]\n"
     ]
    }
   ],
   "source": [
    "print(sentence[1])"
   ]
  }
 ],
 "metadata": {
  "kernelspec": {
   "display_name": "Python 3",
   "language": "python",
   "name": "python3"
  },
  "language_info": {
   "codemirror_mode": {
    "name": "ipython",
    "version": 3
   },
   "file_extension": ".py",
   "mimetype": "text/x-python",
   "name": "python",
   "nbconvert_exporter": "python",
   "pygments_lexer": "ipython3",
   "version": "3.8.7"
  }
 },
 "nbformat": 4,
 "nbformat_minor": 5
}
