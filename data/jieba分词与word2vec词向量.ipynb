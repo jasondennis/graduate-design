{
 "cells": [
  {
   "cell_type": "code",
   "execution_count": 2,
   "id": "confirmed-fireplace",
   "metadata": {},
   "outputs": [],
   "source": [
    "import pandas as pd\n",
    "import jieba\n",
    "import torch"
   ]
  },
  {
   "cell_type": "code",
   "execution_count": 4,
   "id": "ordinary-lesson",
   "metadata": {},
   "outputs": [],
   "source": [
    "pos=pd.read_csv('positive.csv')"
   ]
  },
  {
   "cell_type": "code",
   "execution_count": 7,
   "id": "incident-universal",
   "metadata": {},
   "outputs": [
    {
     "name": "stdout",
     "output_type": "stream",
     "text": [
      "                                                  Comment  Star\n",
      "0        机甲之战超超好看，比变形金刚强；人，神，变异人，人工智能互殴，强强强强；每一小段末句都是槽...     5\n",
      "1        说实话其实剧情就那样吧，非漫威粉看着可能有的地方会get不到G点吧。（其实漫威卖的不是剧情...     5\n",
      "2                                     没有了洛基这个小基仔真是觉得即墨如雪啊     5\n",
      "3        看毕，我激动地对友人说，等等奥创要来毁灭台北怎么办厚，她拍了拍我肩膀，没事，反正你买了两份...     5\n",
      "4                                     哪个保证一刀不剪的，不是剪了好几刀吗！     5\n",
      "...                                                   ...   ...\n",
      "585750                                                啦啦啦     5\n",
      "585751                                          动物城的构建很棒！     5\n",
      "585752                                   六星好评！像头脑特工队那样惊喜！     5\n",
      "585753          对现实世界歧视和偏见的影射妙哉妙哉，不要害怕打破常规，try everything     5\n",
      "585754   萌物包装的政治正确片，那个叫Doug穿黄衫戴防毒面具的绵羊的助手叫Walter和Jessi...     5\n",
      "\n",
      "[585755 rows x 2 columns]\n"
     ]
    }
   ],
   "source": [
    "print(pos)"
   ]
  },
  {
   "cell_type": "code",
   "execution_count": 62,
   "id": "bound-hypothetical",
   "metadata": {},
   "outputs": [],
   "source": [
    "posvec=jieba.cut(pos['Comment'])"
   ]
  },
  {
   "cell_type": "code",
   "execution_count": 64,
   "id": "finite-guyana",
   "metadata": {},
   "outputs": [],
   "source": [
    "posprint=\" \".join(posvec)"
   ]
  },
  {
   "cell_type": "code",
   "execution_count": 66,
   "id": "thermal-stick",
   "metadata": {},
   "outputs": [
    {
     "name": "stdout",
     "output_type": "stream",
     "text": [
      "\n"
     ]
    }
   ],
   "source": [
    "print(posprint)"
   ]
  },
  {
   "cell_type": "code",
   "execution_count": 40,
   "id": "explicit-command",
   "metadata": {},
   "outputs": [],
   "source": [
    "from gensim.models.word2vec import Word2Vec\n",
    "from gensim.models import fasttext"
   ]
  },
  {
   "cell_type": "code",
   "execution_count": 46,
   "id": "simplified-louis",
   "metadata": {},
   "outputs": [],
   "source": [
    "def seg_sentence(sentence):\n",
    "    sentence_seged = jieba.cut(sentence.strip())\n",
    "    outstr = ''\n",
    "    for word in sentence_seged:\n",
    "        if word != '\\t':\n",
    "                outstr += word\n",
    "                outstr += \" \"\n",
    "    return outstr"
   ]
  },
  {
   "cell_type": "code",
   "execution_count": 47,
   "id": "dietary-netherlands",
   "metadata": {},
   "outputs": [
    {
     "name": "stderr",
     "output_type": "stream",
     "text": [
      "Building prefix dict from the default dictionary ...\n",
      "Dumping model to file cache /var/folders/y_/v6f38kjs6tncrsfkklcmjf640000gn/T/jieba.cache\n",
      "Loading model cost 0.827 seconds.\n",
      "Prefix dict has been built successfully.\n"
     ]
    }
   ],
   "source": [
    "posvec= [seg_sentence(i) for i in pos]"
   ]
  },
  {
   "cell_type": "code",
   "execution_count": 48,
   "id": "comparable-digest",
   "metadata": {},
   "outputs": [],
   "source": [
    "model=Word2Vec(posvec,min_count=1,epochs=20,window=5,workers=2)"
   ]
  },
  {
   "cell_type": "code",
   "execution_count": 51,
   "id": "seven-fellowship",
   "metadata": {},
   "outputs": [],
   "source": [
    "model.save('word2vecmodel')"
   ]
  },
  {
   "cell_type": "code",
   "execution_count": 55,
   "id": "continental-amateur",
   "metadata": {},
   "outputs": [],
   "source": [
    "import sklearn\n",
    "import numpy as np"
   ]
  },
  {
   "cell_type": "code",
   "execution_count": 58,
   "id": "sexual-survival",
   "metadata": {},
   "outputs": [
    {
     "name": "stdout",
     "output_type": "stream",
     "text": [
      "0          机甲之战超超好看，比变形金刚强；人，神，变异人，人工智能互殴，强强强强；每一小段末句都是槽...\n",
      "1          说实话其实剧情就那样吧，非漫威粉看着可能有的地方会get不到G点吧。（其实漫威卖的不是剧情...\n",
      "2                                       没有了洛基这个小基仔真是觉得即墨如雪啊\n",
      "3          看毕，我激动地对友人说，等等奥创要来毁灭台北怎么办厚，她拍了拍我肩膀，没事，反正你买了两份...\n",
      "4                                       哪个保证一刀不剪的，不是剪了好几刀吗！\n",
      "                                ...                        \n",
      "585750                                                  啦啦啦\n",
      "585751                                            动物城的构建很棒！\n",
      "585752                                     六星好评！像头脑特工队那样惊喜！\n",
      "585753            对现实世界歧视和偏见的影射妙哉妙哉，不要害怕打破常规，try everything\n",
      "585754     萌物包装的政治正确片，那个叫Doug穿黄衫戴防毒面具的绵羊的助手叫Walter和Jessi...\n",
      "Name: Comment, Length: 585755, dtype: object\n"
     ]
    }
   ],
   "source": [
    "print(pos['Comment'])"
   ]
  },
  {
   "cell_type": "code",
   "execution_count": 57,
   "id": "rural-yellow",
   "metadata": {},
   "outputs": [
    {
     "ename": "NameError",
     "evalue": "name 'train_test_split' is not defined",
     "output_type": "error",
     "traceback": [
      "\u001b[0;31m---------------------------------------------------------------------------\u001b[0m",
      "\u001b[0;31mNameError\u001b[0m                                 Traceback (most recent call last)",
      "\u001b[0;32m<ipython-input-57-807c952609ea>\u001b[0m in \u001b[0;36m<module>\u001b[0;34m\u001b[0m\n\u001b[0;32m----> 1\u001b[0;31m \u001b[0mX_train\u001b[0m\u001b[0;34m,\u001b[0m \u001b[0mX_test\u001b[0m\u001b[0;34m,\u001b[0m \u001b[0my_train\u001b[0m\u001b[0;34m,\u001b[0m \u001b[0my_test\u001b[0m \u001b[0;34m=\u001b[0m \u001b[0mtrain_test_split\u001b[0m\u001b[0;34m(\u001b[0m\u001b[0mnp\u001b[0m\u001b[0;34m.\u001b[0m\u001b[0marray\u001b[0m\u001b[0;34m(\u001b[0m\u001b[0mtrain\u001b[0m\u001b[0;34m,\u001b[0m \u001b[0mdtype\u001b[0m\u001b[0;34m=\u001b[0m\u001b[0;34m'float64'\u001b[0m\u001b[0;34m)\u001b[0m\u001b[0;34m,\u001b[0m\u001b[0mnp\u001b[0m\u001b[0;34m.\u001b[0m\u001b[0marray\u001b[0m\u001b[0;34m(\u001b[0m\u001b[0mtrain_tag\u001b[0m\u001b[0;34m,\u001b[0m \u001b[0mdtype\u001b[0m\u001b[0;34m=\u001b[0m\u001b[0;34m'float64'\u001b[0m\u001b[0;34m)\u001b[0m\u001b[0;34m,\u001b[0m \u001b[0mtest_size\u001b[0m\u001b[0;34m=\u001b[0m\u001b[0;36m0.30\u001b[0m\u001b[0;34m,\u001b[0m\u001b[0mrandom_state\u001b[0m\u001b[0;34m=\u001b[0m\u001b[0;36m0\u001b[0m\u001b[0;34m)\u001b[0m\u001b[0;34m\u001b[0m\u001b[0;34m\u001b[0m\u001b[0m\n\u001b[0m",
      "\u001b[0;31mNameError\u001b[0m: name 'train_test_split' is not defined"
     ]
    }
   ],
   "source": []
  }
 ],
 "metadata": {
  "kernelspec": {
   "display_name": "Python 3",
   "language": "python",
   "name": "python3"
  },
  "language_info": {
   "codemirror_mode": {
    "name": "ipython",
    "version": 3
   },
   "file_extension": ".py",
   "mimetype": "text/x-python",
   "name": "python",
   "nbconvert_exporter": "python",
   "pygments_lexer": "ipython3",
   "version": "3.8.7"
  }
 },
 "nbformat": 4,
 "nbformat_minor": 5
}
