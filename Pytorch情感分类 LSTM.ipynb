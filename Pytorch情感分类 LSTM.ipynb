{
 "cells": [
  {
   "cell_type": "code",
   "execution_count": 8,
   "id": "preliminary-given",
   "metadata": {},
   "outputs": [],
   "source": [
    "import pandas as pd\n",
    "import gensim\n",
    "import time\n",
    "import pickle\n",
    "import numpy as np\n",
    "import jieba"
   ]
  },
  {
   "cell_type": "code",
   "execution_count": 15,
   "id": "mysterious-senegal",
   "metadata": {},
   "outputs": [],
   "source": [
    "from gensim.models.word2vec import Word2Vec "
   ]
  },
  {
   "cell_type": "code",
   "execution_count": 16,
   "id": "earlier-internet",
   "metadata": {},
   "outputs": [],
   "source": [
    "vector_size = 100"
   ]
  },
  {
   "cell_type": "code",
   "execution_count": 17,
   "id": "fifth-morris",
   "metadata": {},
   "outputs": [],
   "source": [
    "def sentence2list(sentence):\n",
    "    return sentence.strip().split()"
   ]
  },
  {
   "cell_type": "code",
   "execution_count": 20,
   "id": "handy-forest",
   "metadata": {},
   "outputs": [
    {
     "name": "stdout",
     "output_type": "stream",
     "text": [
      "准备数据................\n",
      "\n",
      "准备数据完成!\n",
      "\n"
     ]
    }
   ],
   "source": [
    "print(\"准备数据................\\n\")\n",
    "text_train= pd.read_csv('/Users/jasondennis/Desktop/2021-04-28-17-55-46_EXPORT_CSV_2511679_774_0.csv',encoding='utf-8',dtype=str)\n",
    "sentences_train = list(text_train.loc[:, 'Comment'].apply(sentence2list))\n",
    "sentences=jieba.cut(sentences_train)\n",
    "word2vec.LineSentence(sentences, max_sentence_length=10000, limit=None)\n",
    "print(\"准备数据完成!\\n\")"
   ]
  },
  {
   "cell_type": "code",
   "execution_count": 21,
   "id": "worst-still",
   "metadata": {},
   "outputs": [
    {
     "ename": "SyntaxError",
     "evalue": "invalid character in identifier (<ipython-input-21-92b13169f156>, line 3)",
     "output_type": "error",
     "traceback": [
      "\u001b[0;36m  File \u001b[0;32m\"<ipython-input-21-92b13169f156>\"\u001b[0;36m, line \u001b[0;32m3\u001b[0m\n\u001b[0;31m    model.train(sentences，total_examples = model.corpus_count，epochs = model.iter)\u001b[0m\n\u001b[0m                                       ^\u001b[0m\n\u001b[0;31mSyntaxError\u001b[0m\u001b[0;31m:\u001b[0m invalid character in identifier\n"
     ]
    }
   ],
   "source": [
    "model= Word2Vec()\n",
    "model.build_vocab(sentences)\n",
    "model.train(sentences，total_examples = model.corpus_count，epochs = model.iter)"
   ]
  },
  {
   "cell_type": "code",
   "execution_count": null,
   "id": "suited-asbestos",
   "metadata": {},
   "outputs": [],
   "source": []
  }
 ],
 "metadata": {
  "kernelspec": {
   "display_name": "Python 3",
   "language": "python",
   "name": "python3"
  },
  "language_info": {
   "codemirror_mode": {
    "name": "ipython",
    "version": 3
   },
   "file_extension": ".py",
   "mimetype": "text/x-python",
   "name": "python",
   "nbconvert_exporter": "python",
   "pygments_lexer": "ipython3",
   "version": "3.8.7"
  }
 },
 "nbformat": 4,
 "nbformat_minor": 5
}
